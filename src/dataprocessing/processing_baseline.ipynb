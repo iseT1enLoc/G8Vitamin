{
 "cells": [
  {
   "cell_type": "code",
   "execution_count": 16,
   "id": "24c2a04c",
   "metadata": {},
   "outputs": [],
   "source": [
    "import pandas as pd\n",
    "import numpy as np\n",
    "import matplotlib.pyplot as plt\n",
    "import seaborn as sns"
   ]
  },
  {
   "cell_type": "code",
   "execution_count": 17,
   "id": "97fce5a7",
   "metadata": {},
   "outputs": [
    {
     "name": "stdout",
     "output_type": "stream",
     "text": [
      "✅ Số dòng train: 49229 được lưu vào train.csv\n",
      "✅ Số dòng test : 13145 được lưu vào test.csv\n"
     ]
    }
   ],
   "source": [
    "df_final = pd.read_csv(r'C:\\mydata\\G8Vitamin\\data\\final\\LOCMM_06062025_Baseline1.csv')\n",
    "# # === Step 1: Create label from VitaminD ===\n",
    "# def assign_label(x):\n",
    "#     if pd.isna(x):\n",
    "#         return None\n",
    "#     elif x < 50:\n",
    "#         return 0\n",
    "#     elif x >= 50 and x < 125:\n",
    "#         return 1\n",
    "#     else:\n",
    "#         return 2\n",
    "\n",
    "# df_final['label'] = df_final['VitaminD'].apply(assign_label)\n",
    "\n",
    "# === Bước 2: Trích năm đầu tiên từ chuỗi \"2001-2002\" ===\n",
    "df_final['YearStart'] = df_final['YearID'].astype(str).str.extract(r'(\\d{4})').astype(int)\n",
    "\n",
    "def binary_vitamin_d_label(row):\n",
    "    val = row['VitaminD']\n",
    "    year = row['YearStart']\n",
    "\n",
    "    if pd.isna(val) or pd.isna(year):\n",
    "        return None  # hoặc np.nan\n",
    "\n",
    "    if year in [2001, 2003]:\n",
    "        return 1 if val < 20 else 0\n",
    "    else:\n",
    "        return 1 if val < 50 else 0\n",
    "\n",
    "df_final['label'] = df_final.apply(binary_vitamin_d_label, axis=1)\n",
    "\n",
    "# === Bước 3: Tách dữ liệu theo mốc năm 2013 ===\n",
    "df_final_train = df_final[df_final['YearStart'] <= 2013]\n",
    "df_final_test = df_final[df_final['YearStart'] > 2013]\n",
    "\n",
    "# === Bước 4: Ghi ra file CSV ===\n",
    "df_final_train.to_csv(r'c:\\mydata\\G8Vitamin\\data\\final\\baselinestore\\train.csv', index=False)\n",
    "df_final_test.to_csv(r'c:\\mydata\\G8Vitamin\\data\\final\\baselinestore\\test.csv', index=False)\n",
    "\n",
    "# === Log số dòng để xác nhận ===\n",
    "print(f\"✅ Số dòng train: {len(df_final_train)} được lưu vào train.csv\")\n",
    "print(f\"✅ Số dòng test : {len(df_final_test)} được lưu vào test.csv\")\n"
   ]
  },
  {
   "cell_type": "code",
   "execution_count": 18,
   "id": "7ccbd308",
   "metadata": {},
   "outputs": [
    {
     "name": "stderr",
     "output_type": "stream",
     "text": [
      "C:\\Users\\iseT1enLoc\\AppData\\Local\\Temp\\ipykernel_11416\\1177539445.py:3: FutureWarning: \n",
      "\n",
      "Passing `palette` without assigning `hue` is deprecated and will be removed in v0.14.0. Assign the `x` variable to `hue` and set `legend=False` for the same effect.\n",
      "\n",
      "  ax = sns.countplot(x='label', data=df_final_train, palette='viridis')\n"
     ]
    },
    {
     "data": {
      "image/png": "[encoded data removed]",
      "text/plain": [
       "<Figure size 1000x500 with 1 Axes>"
      ]
     },
     "metadata": {},
     "output_type": "display_data"
    }
   ],
   "source": [
    "# Draw label distribution\n",
    "plt.figure(figsize=(10, 5))\n",
    "ax = sns.countplot(x='label', data=df_final_train, palette='viridis')\n",
    "plt.title('Label Distribution')\n",
    "for i, rec in enumerate(ax.patches):\n",
    "    ax.text(\n",
    "        rec.get_x() + rec.get_width()/2,\n",
    "        rec.get_height() + 100,\n",
    "        f'{rec.get_height()/len(df_final_train)*100:.2f}%',\n",
    "    )\n",
    "plt.show()"
   ]
  },
  {
   "cell_type": "code",
   "execution_count": null,
   "id": "7ebc17c2",
   "metadata": {},
   "outputs": [],
   "source": [
    "df_final_train.dropna(inplace=True)\n",
    "df_final_test.dropna(inplace=True)"
   ]
  },
  {
   "cell_type": "code",
   "execution_count": null,
   "id": "fe431521",
   "metadata": {},
   "outputs": [],
   "source": [
    "df_final_train.to_csv(r'c:\\mydata\\G8Vitamin\\data\\final\\baselinestore\\processed_train.csv', index=False)\n",
    "df_final_test.to_csv(r'c:\\mydata\\G8Vitamin\\data\\final\\baselinestore\\processed_test.csv', index=False)"
   ]
  }
 ],
 "metadata": {
  "kernelspec": {
   "display_name": ".venv",
   "language": "python",
   "name": "python3"
  },
  "language_info": {
   "codemirror_mode": {
    "name": "ipython",
    "version": 3
   },
   "file_extension": ".py",
   "mimetype": "text/x-python",
   "name": "python",
   "nbconvert_exporter": "python",
   "pygments_lexer": "ipython3",
   "version": "3.13.0"
  }
 },
 "nbformat": 4,
 "nbformat_minor": 5
}
