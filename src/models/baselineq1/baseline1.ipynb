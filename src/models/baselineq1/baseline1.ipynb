{
 "cells": [
  {
   "cell_type": "code",
   "execution_count": 1,
   "id": "06308265",
   "metadata": {},
   "outputs": [],
   "source": [
    "import pandas as pd\n",
    "import matplotlib.pyplot as plt\n",
    "import seaborn as sns\n",
    "import numpy as np\n",
    "from sklearn.model_selection import train_test_split\n",
    "from sklearn.feature_selection import mutual_info_classif\n",
    "from sklearn.ensemble import RandomForestClassifier\n",
    "from xgboost import XGBClassifier\n",
    "from sklearn.preprocessing import LabelEncoder"
   ]
  },
  {
   "cell_type": "code",
   "execution_count": 2,
   "id": "b8fbafa9",
   "metadata": {},
   "outputs": [],
   "source": [
    "df = pd.read_csv(r\"C:\\mydata\\G8Vitamin\\data\\final\\LOCMM_06062025_Baseline1.csv\")"
   ]
  },
  {
   "cell_type": "code",
   "execution_count": 3,
   "id": "7da85b0e",
   "metadata": {},
   "outputs": [
    {
     "data": {
      "text/html": [
       "<div>\n",
       "<style scoped>\n",
       "    .dataframe tbody tr th:only-of-type {\n",
       "        vertical-align: middle;\n",
       "    }\n",
       "\n",
       "    .dataframe tbody tr th {\n",
       "        vertical-align: top;\n",
       "    }\n",
       "\n",
       "    .dataframe thead th {\n",
       "        text-align: right;\n",
       "    }\n",
       "</style>\n",
       "<table border=\"1\" class=\"dataframe\">\n",
       "  <thead>\n",
       "    <tr style=\"text-align: right;\">\n",
       "      <th></th>\n",
       "      <th>SEQN</th>\n",
       "      <th>Gender</th>\n",
       "      <th>Age</th>\n",
       "      <th>Race</th>\n",
       "      <th>familysize</th>\n",
       "      <th>PIR</th>\n",
       "      <th>BMI</th>\n",
       "      <th>Hba1c</th>\n",
       "      <th>milk_consumption</th>\n",
       "      <th>SmokeFam</th>\n",
       "      <th>VitaminD</th>\n",
       "    </tr>\n",
       "  </thead>\n",
       "  <tbody>\n",
       "    <tr>\n",
       "      <th>count</th>\n",
       "      <td>62374.000000</td>\n",
       "      <td>62374.000000</td>\n",
       "      <td>62374.000000</td>\n",
       "      <td>62374.000000</td>\n",
       "      <td>62374.000000</td>\n",
       "      <td>5.716000e+04</td>\n",
       "      <td>61153.000000</td>\n",
       "      <td>58609.000000</td>\n",
       "      <td>6.237300e+04</td>\n",
       "      <td>5.168000e+04</td>\n",
       "      <td>57274.000000</td>\n",
       "    </tr>\n",
       "    <tr>\n",
       "      <th>mean</th>\n",
       "      <td>56242.071857</td>\n",
       "      <td>1.511880</td>\n",
       "      <td>41.724773</td>\n",
       "      <td>2.965210</td>\n",
       "      <td>3.482958</td>\n",
       "      <td>2.421292e+00</td>\n",
       "      <td>27.858024</td>\n",
       "      <td>5.616158</td>\n",
       "      <td>1.994693e+00</td>\n",
       "      <td>1.762829e+00</td>\n",
       "      <td>61.118327</td>\n",
       "    </tr>\n",
       "    <tr>\n",
       "      <th>std</th>\n",
       "      <td>26975.890678</td>\n",
       "      <td>0.499863</td>\n",
       "      <td>21.525121</td>\n",
       "      <td>1.206259</td>\n",
       "      <td>1.731201</td>\n",
       "      <td>1.614582e+00</td>\n",
       "      <td>7.014009</td>\n",
       "      <td>0.991346</td>\n",
       "      <td>1.093107e+00</td>\n",
       "      <td>1.333201e+01</td>\n",
       "      <td>25.828595</td>\n",
       "    </tr>\n",
       "    <tr>\n",
       "      <th>min</th>\n",
       "      <td>9966.000000</td>\n",
       "      <td>1.000000</td>\n",
       "      <td>12.000000</td>\n",
       "      <td>1.000000</td>\n",
       "      <td>1.000000</td>\n",
       "      <td>5.397605e-79</td>\n",
       "      <td>12.610000</td>\n",
       "      <td>2.000000</td>\n",
       "      <td>5.397605e-79</td>\n",
       "      <td>5.397605e-79</td>\n",
       "      <td>5.410000</td>\n",
       "    </tr>\n",
       "    <tr>\n",
       "      <th>25%</th>\n",
       "      <td>32894.000000</td>\n",
       "      <td>1.000000</td>\n",
       "      <td>21.000000</td>\n",
       "      <td>2.000000</td>\n",
       "      <td>2.000000</td>\n",
       "      <td>1.040000e+00</td>\n",
       "      <td>22.890000</td>\n",
       "      <td>5.100000</td>\n",
       "      <td>1.000000e+00</td>\n",
       "      <td>1.000000e+00</td>\n",
       "      <td>42.700000</td>\n",
       "    </tr>\n",
       "    <tr>\n",
       "      <th>50%</th>\n",
       "      <td>55739.500000</td>\n",
       "      <td>2.000000</td>\n",
       "      <td>40.000000</td>\n",
       "      <td>3.000000</td>\n",
       "      <td>3.000000</td>\n",
       "      <td>1.990000e+00</td>\n",
       "      <td>26.800000</td>\n",
       "      <td>5.400000</td>\n",
       "      <td>2.000000e+00</td>\n",
       "      <td>2.000000e+00</td>\n",
       "      <td>58.600000</td>\n",
       "    </tr>\n",
       "    <tr>\n",
       "      <th>75%</th>\n",
       "      <td>80183.750000</td>\n",
       "      <td>2.000000</td>\n",
       "      <td>60.000000</td>\n",
       "      <td>4.000000</td>\n",
       "      <td>5.000000</td>\n",
       "      <td>3.850000e+00</td>\n",
       "      <td>31.500000</td>\n",
       "      <td>5.700000</td>\n",
       "      <td>3.000000e+00</td>\n",
       "      <td>2.000000e+00</td>\n",
       "      <td>75.300000</td>\n",
       "    </tr>\n",
       "    <tr>\n",
       "      <th>max</th>\n",
       "      <td>102956.000000</td>\n",
       "      <td>2.000000</td>\n",
       "      <td>85.000000</td>\n",
       "      <td>5.000000</td>\n",
       "      <td>7.000000</td>\n",
       "      <td>5.000000e+00</td>\n",
       "      <td>130.210000</td>\n",
       "      <td>18.800000</td>\n",
       "      <td>9.000000e+00</td>\n",
       "      <td>9.990000e+02</td>\n",
       "      <td>422.000000</td>\n",
       "    </tr>\n",
       "  </tbody>\n",
       "</table>\n",
       "</div>"
      ],
      "text/plain": [
       "                SEQN        Gender           Age          Race    familysize  \\\n",
       "count   62374.000000  62374.000000  62374.000000  62374.000000  62374.000000   \n",
       "mean    56242.071857      1.511880     41.724773      2.965210      3.482958   \n",
       "std     26975.890678      0.499863     21.525121      1.206259      1.731201   \n",
       "min      9966.000000      1.000000     12.000000      1.000000      1.000000   \n",
       "25%     32894.000000      1.000000     21.000000      2.000000      2.000000   \n",
       "50%     55739.500000      2.000000     40.000000      3.000000      3.000000   \n",
       "75%     80183.750000      2.000000     60.000000      4.000000      5.000000   \n",
       "max    102956.000000      2.000000     85.000000      5.000000      7.000000   \n",
       "\n",
       "                PIR           BMI         Hba1c  milk_consumption  \\\n",
       "count  5.716000e+04  61153.000000  58609.000000      6.237300e+04   \n",
       "mean   2.421292e+00     27.858024      5.616158      1.994693e+00   \n",
       "std    1.614582e+00      7.014009      0.991346      1.093107e+00   \n",
       "min    5.397605e-79     12.610000      2.000000      5.397605e-79   \n",
       "25%    1.040000e+00     22.890000      5.100000      1.000000e+00   \n",
       "50%    1.990000e+00     26.800000      5.400000      2.000000e+00   \n",
       "75%    3.850000e+00     31.500000      5.700000      3.000000e+00   \n",
       "max    5.000000e+00    130.210000     18.800000      9.000000e+00   \n",
       "\n",
       "           SmokeFam      VitaminD  \n",
       "count  5.168000e+04  57274.000000  \n",
       "mean   1.762829e+00     61.118327  \n",
       "std    1.333201e+01     25.828595  \n",
       "min    5.397605e-79      5.410000  \n",
       "25%    1.000000e+00     42.700000  \n",
       "50%    2.000000e+00     58.600000  \n",
       "75%    2.000000e+00     75.300000  \n",
       "max    9.990000e+02    422.000000  "
      ]
     },
     "execution_count": 3,
     "metadata": {},
     "output_type": "execute_result"
    }
   ],
   "source": [
    "df.describe()"
   ]
  },
  {
   "cell_type": "code",
   "execution_count": 4,
   "id": "2e634dd5",
   "metadata": {},
   "outputs": [
    {
     "name": "stdout",
     "output_type": "stream",
     "text": [
      "<class 'pandas.core.frame.DataFrame'>\n",
      "RangeIndex: 62374 entries, 0 to 62373\n",
      "Data columns (total 12 columns):\n",
      " #   Column            Non-Null Count  Dtype  \n",
      "---  ------            --------------  -----  \n",
      " 0   SEQN              62374 non-null  float64\n",
      " 1   Gender            62374 non-null  float64\n",
      " 2   Age               62374 non-null  float64\n",
      " 3   Race              62374 non-null  float64\n",
      " 4   familysize        62374 non-null  float64\n",
      " 5   PIR               57160 non-null  float64\n",
      " 6   BMI               61153 non-null  float64\n",
      " 7   Hba1c             58609 non-null  float64\n",
      " 8   milk_consumption  62373 non-null  float64\n",
      " 9   SmokeFam          51680 non-null  float64\n",
      " 10  VitaminD          57274 non-null  float64\n",
      " 11  YearID            62374 non-null  object \n",
      "dtypes: float64(11), object(1)\n",
      "memory usage: 5.7+ MB\n"
     ]
    }
   ],
   "source": [
    "df.info()"
   ]
  },
  {
   "cell_type": "markdown",
   "id": "fce8a678",
   "metadata": {},
   "source": [
    "## Data processing"
   ]
  },
  {
   "cell_type": "code",
   "execution_count": 5,
   "id": "8f7f86ff",
   "metadata": {},
   "outputs": [],
   "source": [
    "# Tách năm bắt đầu thành cột số nguyên để dễ xử lý\n",
    "df['YearStart'] = df['YearID'].str[:4].astype(int)\n",
    "\n",
    "# Xử lý cho dữ liệu từ 2001–2012\n",
    "df1 = df[df['YearStart'] < 2013].copy()\n",
    "df1.loc[df1['SmokeFam'] == 2, 'SmokeFam'] = 1\n",
    "df1 = df1[df1['SmokeFam'] <= 1]\n",
    "\n",
    "# Xử lý cho dữ liệu từ 2013 trở đi\n",
    "df2 = df[df['YearStart'] >= 2013].copy()\n",
    "df2.loc[(df2['SmokeFam'] >= 1.0) & (df2['SmokeFam'] <= 3.0), 'SmokeFam'] = 1\n",
    "df2 = df2[df2['SmokeFam'] <= 1]\n",
    "df = pd.concat([df1,df2])\n"
   ]
  },
  {
   "cell_type": "code",
   "execution_count": 6,
   "id": "3cfe5d7b",
   "metadata": {},
   "outputs": [],
   "source": [
    "#concat the valid \n",
    "df = pd.concat([df1,df2])"
   ]
  },
  {
   "cell_type": "code",
   "execution_count": 7,
   "id": "7a62b7a0",
   "metadata": {},
   "outputs": [
    {
     "name": "stdout",
     "output_type": "stream",
     "text": [
      "<class 'pandas.core.frame.DataFrame'>\n",
      "Index: 51655 entries, 0 to 62373\n",
      "Data columns (total 13 columns):\n",
      " #   Column            Non-Null Count  Dtype  \n",
      "---  ------            --------------  -----  \n",
      " 0   SEQN              51655 non-null  float64\n",
      " 1   Gender            51655 non-null  float64\n",
      " 2   Age               51655 non-null  float64\n",
      " 3   Race              51655 non-null  float64\n",
      " 4   familysize        51655 non-null  float64\n",
      " 5   PIR               48035 non-null  float64\n",
      " 6   BMI               50576 non-null  float64\n",
      " 7   Hba1c             48503 non-null  float64\n",
      " 8   milk_consumption  51655 non-null  float64\n",
      " 9   SmokeFam          51655 non-null  float64\n",
      " 10  VitaminD          47223 non-null  float64\n",
      " 11  YearID            51655 non-null  object \n",
      " 12  YearStart         51655 non-null  int64  \n",
      "dtypes: float64(11), int64(1), object(1)\n",
      "memory usage: 5.5+ MB\n"
     ]
    }
   ],
   "source": [
    "df.info()"
   ]
  },
  {
   "cell_type": "code",
   "execution_count": 8,
   "id": "ea081699",
   "metadata": {},
   "outputs": [],
   "source": [
    "#diebete assign:\n",
    "def isDiabete(row):\n",
    "    if row<6.5:\n",
    "        return 0\n",
    "    else:\n",
    "        return 1"
   ]
  },
  {
   "cell_type": "code",
   "execution_count": 9,
   "id": "a4055681",
   "metadata": {},
   "outputs": [],
   "source": [
    "df['Hba1c'] = df['Hba1c'].apply(isDiabete)"
   ]
  },
  {
   "cell_type": "code",
   "execution_count": 10,
   "id": "fa43965e",
   "metadata": {},
   "outputs": [
    {
     "data": {
      "text/html": [
       "<div>\n",
       "<style scoped>\n",
       "    .dataframe tbody tr th:only-of-type {\n",
       "        vertical-align: middle;\n",
       "    }\n",
       "\n",
       "    .dataframe tbody tr th {\n",
       "        vertical-align: top;\n",
       "    }\n",
       "\n",
       "    .dataframe thead th {\n",
       "        text-align: right;\n",
       "    }\n",
       "</style>\n",
       "<table border=\"1\" class=\"dataframe\">\n",
       "  <thead>\n",
       "    <tr style=\"text-align: right;\">\n",
       "      <th></th>\n",
       "      <th>SEQN</th>\n",
       "      <th>Gender</th>\n",
       "      <th>Age</th>\n",
       "      <th>Race</th>\n",
       "      <th>familysize</th>\n",
       "      <th>PIR</th>\n",
       "      <th>BMI</th>\n",
       "      <th>Hba1c</th>\n",
       "      <th>milk_consumption</th>\n",
       "      <th>SmokeFam</th>\n",
       "      <th>VitaminD</th>\n",
       "      <th>YearStart</th>\n",
       "    </tr>\n",
       "  </thead>\n",
       "  <tbody>\n",
       "    <tr>\n",
       "      <th>count</th>\n",
       "      <td>51655.000000</td>\n",
       "      <td>51655.000000</td>\n",
       "      <td>51655.000000</td>\n",
       "      <td>51655.000000</td>\n",
       "      <td>51655.000000</td>\n",
       "      <td>4.803500e+04</td>\n",
       "      <td>50576.000000</td>\n",
       "      <td>51655.000000</td>\n",
       "      <td>5.165500e+04</td>\n",
       "      <td>5.165500e+04</td>\n",
       "      <td>47223.000000</td>\n",
       "      <td>51655.000000</td>\n",
       "    </tr>\n",
       "    <tr>\n",
       "      <th>mean</th>\n",
       "      <td>50820.679566</td>\n",
       "      <td>1.509205</td>\n",
       "      <td>41.398780</td>\n",
       "      <td>2.950963</td>\n",
       "      <td>3.477534</td>\n",
       "      <td>2.397747e+00</td>\n",
       "      <td>27.756529</td>\n",
       "      <td>0.140664</td>\n",
       "      <td>2.017017e+00</td>\n",
       "      <td>8.810377e-01</td>\n",
       "      <td>60.348808</td>\n",
       "      <td>2007.809138</td>\n",
       "    </tr>\n",
       "    <tr>\n",
       "      <th>std</th>\n",
       "      <td>26123.716198</td>\n",
       "      <td>0.499920</td>\n",
       "      <td>21.575871</td>\n",
       "      <td>1.183160</td>\n",
       "      <td>1.729297</td>\n",
       "      <td>1.608560e+00</td>\n",
       "      <td>6.971984</td>\n",
       "      <td>0.347678</td>\n",
       "      <td>1.091756e+00</td>\n",
       "      <td>3.237473e-01</td>\n",
       "      <td>25.346483</td>\n",
       "      <td>5.011740</td>\n",
       "    </tr>\n",
       "    <tr>\n",
       "      <th>min</th>\n",
       "      <td>9966.000000</td>\n",
       "      <td>1.000000</td>\n",
       "      <td>12.000000</td>\n",
       "      <td>1.000000</td>\n",
       "      <td>1.000000</td>\n",
       "      <td>5.397605e-79</td>\n",
       "      <td>12.610000</td>\n",
       "      <td>0.000000</td>\n",
       "      <td>5.397605e-79</td>\n",
       "      <td>5.397605e-79</td>\n",
       "      <td>5.410000</td>\n",
       "      <td>2001.000000</td>\n",
       "    </tr>\n",
       "    <tr>\n",
       "      <th>25%</th>\n",
       "      <td>29154.500000</td>\n",
       "      <td>1.000000</td>\n",
       "      <td>20.000000</td>\n",
       "      <td>2.000000</td>\n",
       "      <td>2.000000</td>\n",
       "      <td>1.030000e+00</td>\n",
       "      <td>22.800000</td>\n",
       "      <td>0.000000</td>\n",
       "      <td>1.000000e+00</td>\n",
       "      <td>1.000000e+00</td>\n",
       "      <td>42.200000</td>\n",
       "      <td>2003.000000</td>\n",
       "    </tr>\n",
       "    <tr>\n",
       "      <th>50%</th>\n",
       "      <td>48338.000000</td>\n",
       "      <td>2.000000</td>\n",
       "      <td>39.000000</td>\n",
       "      <td>3.000000</td>\n",
       "      <td>3.000000</td>\n",
       "      <td>1.960000e+00</td>\n",
       "      <td>26.730000</td>\n",
       "      <td>0.000000</td>\n",
       "      <td>2.000000e+00</td>\n",
       "      <td>1.000000e+00</td>\n",
       "      <td>58.100000</td>\n",
       "      <td>2007.000000</td>\n",
       "    </tr>\n",
       "    <tr>\n",
       "      <th>75%</th>\n",
       "      <td>67222.500000</td>\n",
       "      <td>2.000000</td>\n",
       "      <td>60.000000</td>\n",
       "      <td>4.000000</td>\n",
       "      <td>5.000000</td>\n",
       "      <td>3.790000e+00</td>\n",
       "      <td>31.370000</td>\n",
       "      <td>0.000000</td>\n",
       "      <td>3.000000e+00</td>\n",
       "      <td>1.000000e+00</td>\n",
       "      <td>74.500000</td>\n",
       "      <td>2011.000000</td>\n",
       "    </tr>\n",
       "    <tr>\n",
       "      <th>max</th>\n",
       "      <td>102956.000000</td>\n",
       "      <td>2.000000</td>\n",
       "      <td>85.000000</td>\n",
       "      <td>5.000000</td>\n",
       "      <td>7.000000</td>\n",
       "      <td>5.000000e+00</td>\n",
       "      <td>130.210000</td>\n",
       "      <td>1.000000</td>\n",
       "      <td>9.000000e+00</td>\n",
       "      <td>1.000000e+00</td>\n",
       "      <td>422.000000</td>\n",
       "      <td>2017.000000</td>\n",
       "    </tr>\n",
       "  </tbody>\n",
       "</table>\n",
       "</div>"
      ],
      "text/plain": [
       "                SEQN        Gender           Age          Race    familysize  \\\n",
       "count   51655.000000  51655.000000  51655.000000  51655.000000  51655.000000   \n",
       "mean    50820.679566      1.509205     41.398780      2.950963      3.477534   \n",
       "std     26123.716198      0.499920     21.575871      1.183160      1.729297   \n",
       "min      9966.000000      1.000000     12.000000      1.000000      1.000000   \n",
       "25%     29154.500000      1.000000     20.000000      2.000000      2.000000   \n",
       "50%     48338.000000      2.000000     39.000000      3.000000      3.000000   \n",
       "75%     67222.500000      2.000000     60.000000      4.000000      5.000000   \n",
       "max    102956.000000      2.000000     85.000000      5.000000      7.000000   \n",
       "\n",
       "                PIR           BMI         Hba1c  milk_consumption  \\\n",
       "count  4.803500e+04  50576.000000  51655.000000      5.165500e+04   \n",
       "mean   2.397747e+00     27.756529      0.140664      2.017017e+00   \n",
       "std    1.608560e+00      6.971984      0.347678      1.091756e+00   \n",
       "min    5.397605e-79     12.610000      0.000000      5.397605e-79   \n",
       "25%    1.030000e+00     22.800000      0.000000      1.000000e+00   \n",
       "50%    1.960000e+00     26.730000      0.000000      2.000000e+00   \n",
       "75%    3.790000e+00     31.370000      0.000000      3.000000e+00   \n",
       "max    5.000000e+00    130.210000      1.000000      9.000000e+00   \n",
       "\n",
       "           SmokeFam      VitaminD     YearStart  \n",
       "count  5.165500e+04  47223.000000  51655.000000  \n",
       "mean   8.810377e-01     60.348808   2007.809138  \n",
       "std    3.237473e-01     25.346483      5.011740  \n",
       "min    5.397605e-79      5.410000   2001.000000  \n",
       "25%    1.000000e+00     42.200000   2003.000000  \n",
       "50%    1.000000e+00     58.100000   2007.000000  \n",
       "75%    1.000000e+00     74.500000   2011.000000  \n",
       "max    1.000000e+00    422.000000   2017.000000  "
      ]
     },
     "execution_count": 10,
     "metadata": {},
     "output_type": "execute_result"
    }
   ],
   "source": [
    "df.describe()"
   ]
  },
  {
   "cell_type": "code",
   "execution_count": 11,
   "id": "448882b4",
   "metadata": {},
   "outputs": [],
   "source": [
    "df.dropna(inplace=True)"
   ]
  },
  {
   "cell_type": "code",
   "execution_count": 12,
   "id": "d2121e2d",
   "metadata": {},
   "outputs": [],
   "source": [
    "def labelVitaminD(row):\n",
    "    if row<50:\n",
    "        return 1\n",
    "    else:\n",
    "        return 0\n",
    "    "
   ]
  },
  {
   "cell_type": "code",
   "execution_count": 13,
   "id": "456f45df",
   "metadata": {},
   "outputs": [],
   "source": [
    "df['label'] = df['VitaminD'].apply(labelVitaminD)"
   ]
  },
  {
   "cell_type": "code",
   "execution_count": 14,
   "id": "1f69999a",
   "metadata": {},
   "outputs": [
    {
     "data": {
      "text/plain": [
       "label\n",
       "0    27525\n",
       "1    15881\n",
       "Name: count, dtype: int64"
      ]
     },
     "execution_count": 14,
     "metadata": {},
     "output_type": "execute_result"
    }
   ],
   "source": [
    "df['label'].value_counts()"
   ]
  },
  {
   "cell_type": "code",
   "execution_count": 15,
   "id": "90f7e613",
   "metadata": {},
   "outputs": [],
   "source": [
    "df.drop(columns=['SEQN','VitaminD','YearStart','YearID'],inplace=True)"
   ]
  },
  {
   "cell_type": "code",
   "execution_count": 16,
   "id": "20f86dc6",
   "metadata": {},
   "outputs": [],
   "source": [
    "df = df[df['milk_consumption']<=3]"
   ]
  },
  {
   "cell_type": "markdown",
   "id": "8a5051d6",
   "metadata": {},
   "source": [
    "## Statistic"
   ]
  },
  {
   "cell_type": "code",
   "execution_count": 164,
   "id": "b03f8ad3",
   "metadata": {},
   "outputs": [
    {
     "name": "stdout",
     "output_type": "stream",
     "text": [
      "✅ Số dòng train: 36637 được lưu vào train.csv\n",
      "✅ Số dòng test : 6769 được lưu vào test.csv\n"
     ]
    }
   ],
   "source": [
    "import pandas as pd\n",
    "from sklearn.model_selection import train_test_split\n",
    "\n",
    "# Assuming `df` is your original dataframe\n",
    "X = df.drop(columns=[\"label\"])\n",
    "y = df[\"label\"]\n",
    "\n",
    "X_train, X_test, y_train, y_test = train_test_split(\n",
    "    X, y,\n",
    "    test_size=0.3,\n",
    "    stratify=y,\n",
    "    random_state=42\n",
    ")\n",
    "\n",
    "# Combine features and label for export\n",
    "train_df = pd.concat([X_train, y_train], axis=1)\n",
    "val_df = pd.concat([X_test, y_test], axis=1)\n",
    "\n",
    "df = pd.concat([train_df,val_df])\n",
    "\n",
    "# === Bước 3: Tách dữ liệu theo mốc năm 2013 ===\n",
    "df_final_train = df[df['YearStart'] <= 2013]\n",
    "df_final_test = df[df['YearStart'] > 2013]\n",
    "\n",
    "# === Bước 4: Ghi ra file CSV ===\n",
    "df_final_train.to_csv(r'c:\\mydata\\G8Vitamin\\data\\final\\baselinestore\\processed_train.csv', index=False)\n",
    "df_final_test.to_csv(r'c:\\mydata\\G8Vitamin\\data\\final\\baselinestore\\processed_test.csv', index=False)\n",
    "\n",
    "# === Log số dòng để xác nhận ===\n",
    "print(f\"✅ Số dòng train: {len(df_final_train)} được lưu vào train.csv\")\n",
    "print(f\"✅ Số dòng test : {len(df_final_test)} được lưu vào test.csv\")\n"
   ]
  },
  {
   "cell_type": "markdown",
   "id": "ef3c8f67",
   "metadata": {},
   "source": [
    "### 1.Gender"
   ]
  },
  {
   "cell_type": "code",
   "execution_count": 84,
   "id": "ee7ea255",
   "metadata": {},
   "outputs": [
    {
     "data": {
      "text/plain": [
       "Gender\n",
       "2.0    15351\n",
       "1.0    14907\n",
       "Name: count, dtype: int64"
      ]
     },
     "execution_count": 84,
     "metadata": {},
     "output_type": "execute_result"
    }
   ],
   "source": [
    "X_train['Gender'].value_counts()"
   ]
  },
  {
   "cell_type": "code",
   "execution_count": 85,
   "id": "287b6b65",
   "metadata": {},
   "outputs": [
    {
     "data": {
      "text/plain": [
       "Gender\n",
       "2.0    6596\n",
       "1.0    6373\n",
       "Name: count, dtype: int64"
      ]
     },
     "execution_count": 85,
     "metadata": {},
     "output_type": "execute_result"
    }
   ],
   "source": [
    "X_test['Gender'].value_counts()"
   ]
  },
  {
   "cell_type": "markdown",
   "id": "02dd39a8",
   "metadata": {},
   "source": [
    "### Age, Race,H_xize, HPIR, BMI"
   ]
  },
  {
   "cell_type": "code",
   "execution_count": 86,
   "id": "5929ce60",
   "metadata": {},
   "outputs": [
    {
     "name": "stdout",
     "output_type": "stream",
     "text": [
      "\n",
      "--- BMI (Train Set) ---\n",
      "Median: 26.79\n",
      "Q1 (25th percentile): 22.86\n",
      "Q3 (75th percentile): 31.4\n",
      "IQR (Q3 - Q1): 8.54\n"
     ]
    },
    {
     "data": {
      "image/png": "[encoded data removed]",
      "text/plain": [
       "<Figure size 600x250 with 1 Axes>"
      ]
     },
     "metadata": {},
     "output_type": "display_data"
    },
    {
     "name": "stdout",
     "output_type": "stream",
     "text": [
      "\n",
      "--- BMI (Test Set) ---\n",
      "Median: 26.79\n",
      "Q1 (25th percentile): 22.9\n",
      "Q3 (75th percentile): 31.47\n",
      "IQR (Q3 - Q1): 8.57\n"
     ]
    },
    {
     "data": {
      "image/png": "[encoded data removed]",
      "text/plain": [
       "<Figure size 600x250 with 1 Axes>"
      ]
     },
     "metadata": {},
     "output_type": "display_data"
    },
    {
     "name": "stdout",
     "output_type": "stream",
     "text": [
      "\n",
      "--- Age (Train Set) ---\n",
      "Median: 39.0\n",
      "Q1 (25th percentile): 20.0\n",
      "Q3 (75th percentile): 59.0\n",
      "IQR (Q3 - Q1): 39.0\n"
     ]
    },
    {
     "data": {
      "image/png": "[encoded data removed]",
      "text/plain": [
       "<Figure size 600x250 with 1 Axes>"
      ]
     },
     "metadata": {},
     "output_type": "display_data"
    },
    {
     "name": "stdout",
     "output_type": "stream",
     "text": [
      "\n",
      "--- Age (Test Set) ---\n",
      "Median: 40.0\n",
      "Q1 (25th percentile): 21.0\n",
      "Q3 (75th percentile): 60.0\n",
      "IQR (Q3 - Q1): 39.0\n"
     ]
    },
    {
     "data": {
      "image/png": "[encoded data removed]",
      "text/plain": [
       "<Figure size 600x250 with 1 Axes>"
      ]
     },
     "metadata": {},
     "output_type": "display_data"
    },
    {
     "name": "stdout",
     "output_type": "stream",
     "text": [
      "\n",
      "--- familysize (Train Set) ---\n",
      "Median: 3.0\n",
      "Q1 (25th percentile): 2.0\n",
      "Q3 (75th percentile): 5.0\n",
      "IQR (Q3 - Q1): 3.0\n"
     ]
    },
    {
     "data": {
      "image/png": "[encoded data removed]",
      "text/plain": [
       "<Figure size 600x250 with 1 Axes>"
      ]
     },
     "metadata": {},
     "output_type": "display_data"
    },
    {
     "name": "stdout",
     "output_type": "stream",
     "text": [
      "\n",
      "--- familysize (Test Set) ---\n",
      "Median: 3.0\n",
      "Q1 (25th percentile): 2.0\n",
      "Q3 (75th percentile): 5.0\n",
      "IQR (Q3 - Q1): 3.0\n"
     ]
    },
    {
     "data": {
      "image/png": "[encoded data removed]",
      "text/plain": [
       "<Figure size 600x250 with 1 Axes>"
      ]
     },
     "metadata": {},
     "output_type": "display_data"
    },
    {
     "name": "stdout",
     "output_type": "stream",
     "text": [
      "\n",
      "--- PIR (Train Set) ---\n",
      "Median: 1.98\n",
      "Q1 (25th percentile): 1.04\n",
      "Q3 (75th percentile): 3.85\n",
      "IQR (Q3 - Q1): 2.81\n"
     ]
    },
    {
     "data": {
      "image/png": "[encoded data removed]",
      "text/plain": [
       "<Figure size 600x250 with 1 Axes>"
      ]
     },
     "metadata": {},
     "output_type": "display_data"
    },
    {
     "name": "stdout",
     "output_type": "stream",
     "text": [
      "\n",
      "--- PIR (Test Set) ---\n",
      "Median: 2.0\n",
      "Q1 (25th percentile): 1.04\n",
      "Q3 (75th percentile): 3.85\n",
      "IQR (Q3 - Q1): 2.81\n"
     ]
    },
    {
     "data": {
      "image/png": "[encoded data removed]",
      "text/plain": [
       "<Figure size 600x250 with 1 Axes>"
      ]
     },
     "metadata": {},
     "output_type": "display_data"
    }
   ],
   "source": [
    "import pandas as pd\n",
    "import numpy as np\n",
    "import matplotlib.pyplot as plt\n",
    "\n",
    "# Replace with your actual list of numeric columns\n",
    "numeric_columns = [\"BMI\", \"Age\", \"familysize\", \"PIR\"]\n",
    "dflist = [X_train, X_test]\n",
    "dfnames = [\"Train\", \"Test\"]\n",
    "\n",
    "# Iterate through each column\n",
    "for col in numeric_columns:\n",
    "    for df, name in zip(dflist, dfnames):\n",
    "        data = df[col].dropna()\n",
    "\n",
    "        Q1 = data.quantile(0.25)\n",
    "        Q3 = data.quantile(0.75)\n",
    "        IQR = Q3 - Q1\n",
    "        mean_val = data.median()\n",
    "\n",
    "        print(f\"\\n--- {col} ({name} Set) ---\")\n",
    "        print(f\"Median: {mean_val}\")\n",
    "        print(f\"Q1 (25th percentile): {Q1}\")\n",
    "        print(f\"Q3 (75th percentile): {Q3}\")\n",
    "        print(f\"IQR (Q3 - Q1): {IQR}\")\n",
    "\n",
    "        # Boxplot\n",
    "        plt.figure(figsize=(6, 2.5))\n",
    "        plt.boxplot(data, vert=False)\n",
    "        plt.title(f'Boxplot of {col} ({name} Set)')\n",
    "        plt.xlabel(col)\n",
    "        plt.grid(True)\n",
    "        plt.tight_layout()\n",
    "        plt.show()\n"
   ]
  },
  {
   "cell_type": "code",
   "execution_count": 87,
   "id": "32ba8d73",
   "metadata": {},
   "outputs": [
    {
     "name": "stdout",
     "output_type": "stream",
     "text": [
      "\n",
      "--- Gender (Train Set) ---\n",
      "        Count  Percentage (%)\n",
      "Gender                       \n",
      "2.0     15351           50.73\n",
      "1.0     14907           49.27\n",
      "\n",
      "--- Gender (Test Set) ---\n",
      "        Count  Percentage (%)\n",
      "Gender                       \n",
      "2.0      6596           50.86\n",
      "1.0      6373           49.14\n",
      "\n",
      "--- Race (Train Set) ---\n",
      "      Count  Percentage (%)\n",
      "Race                       \n",
      "3.0   12922           42.71\n",
      "4.0    6944           22.95\n",
      "1.0    5800           19.17\n",
      "5.0    2427            8.02\n",
      "2.0    2165            7.16\n",
      "\n",
      "--- Race (Test Set) ---\n",
      "      Count  Percentage (%)\n",
      "Race                       \n",
      "3.0    5666           43.69\n",
      "4.0    2904           22.39\n",
      "1.0    2380           18.35\n",
      "5.0    1096            8.45\n",
      "2.0     923            7.12\n",
      "\n",
      "--- milk_consumption (Train Set) ---\n",
      "                  Count  Percentage (%)\n",
      "milk_consumption                       \n",
      "3.000000e+00      13524           44.70\n",
      "2.000000e+00       8055           26.62\n",
      "1.000000e+00       4392           14.52\n",
      "5.397605e-79       4287           14.17\n",
      "\n",
      "--- milk_consumption (Test Set) ---\n",
      "                  Count  Percentage (%)\n",
      "milk_consumption                       \n",
      "3.000000e+00       5769           44.48\n",
      "2.000000e+00       3405           26.25\n",
      "1.000000e+00       1936           14.93\n",
      "5.397605e-79       1859           14.33\n",
      "\n",
      "--- Hba1c (Train Set) ---\n",
      "       Count  Percentage (%)\n",
      "Hba1c                       \n",
      "0      27723           91.62\n",
      "1       2535            8.38\n",
      "\n",
      "--- Hba1c (Test Set) ---\n",
      "       Count  Percentage (%)\n",
      "Hba1c                       \n",
      "0      11897           91.73\n",
      "1       1072            8.27\n",
      "\n",
      "--- SmokeFam (Train Set) ---\n",
      "              Count  Percentage (%)\n",
      "SmokeFam                           \n",
      "1.000000e+00  26654           88.09\n",
      "5.397605e-79   3604           11.91\n",
      "\n",
      "--- SmokeFam (Test Set) ---\n",
      "              Count  Percentage (%)\n",
      "SmokeFam                           \n",
      "1.000000e+00  11359           87.59\n",
      "5.397605e-79   1610           12.41\n",
      "\n",
      "--- familysize (Train Set) ---\n",
      "            Count  Percentage (%)\n",
      "familysize                       \n",
      "2.0          7828           25.87\n",
      "4.0          5492           18.15\n",
      "3.0          5444           17.99\n",
      "5.0          4058           13.41\n",
      "1.0          3269           10.80\n",
      "7.0          2151            7.11\n",
      "6.0          2016            6.66\n",
      "\n",
      "--- familysize (Test Set) ---\n",
      "            Count  Percentage (%)\n",
      "familysize                       \n",
      "2.0          3329           25.67\n",
      "4.0          2409           18.58\n",
      "3.0          2378           18.34\n",
      "5.0          1657           12.78\n",
      "1.0          1440           11.10\n",
      "6.0           879            6.78\n",
      "7.0           877            6.76\n"
     ]
    }
   ],
   "source": [
    "# Replace with your actual list of categorical columns\n",
    "categorical_columns = [\"Gender\", \"Race\", \"milk_consumption\", \"Hba1c\", \"SmokeFam\",\"familysize\"]\n",
    "dflist = [X_train, X_test]\n",
    "dfnames = [\"Train\", \"Test\"]\n",
    "\n",
    "for col in categorical_columns:\n",
    "    for df, name in zip(dflist, dfnames):\n",
    "        print(f\"\\n--- {col} ({name} Set) ---\")\n",
    "        counts = df[col].value_counts(dropna=False)\n",
    "        percentages = df[col].value_counts(normalize=True, dropna=False) * 100\n",
    "        result = pd.DataFrame({\n",
    "            'Count': counts,\n",
    "            'Percentage (%)': percentages.round(2)\n",
    "        })\n",
    "        print(result)\n"
   ]
  },
  {
   "cell_type": "markdown",
   "id": "07199366",
   "metadata": {},
   "source": [
    "# Models"
   ]
  },
  {
   "cell_type": "code",
   "execution_count": 17,
   "id": "ef4a66c0",
   "metadata": {},
   "outputs": [
    {
     "name": "stdout",
     "output_type": "stream",
     "text": [
      "Evaluating GBM...\n",
      "Evaluating LR...\n",
      "Evaluating Nnet...\n",
      "Evaluating RF...\n",
      "Evaluating XGBoost...\n"
     ]
    },
    {
     "name": "stderr",
     "output_type": "stream",
     "text": [
      "c:\\mydata\\G8Vitamin\\.venv\\Lib\\site-packages\\xgboost\\training.py:183: UserWarning: [03:16:03] WARNING: C:\\actions-runner\\_work\\xgboost\\xgboost\\src\\learner.cc:738: \n",
      "Parameters: { \"use_label_encoder\" } are not used.\n",
      "\n",
      "  bst.update(dtrain, iteration=i, fobj=obj)\n",
      "c:\\mydata\\G8Vitamin\\.venv\\Lib\\site-packages\\xgboost\\training.py:183: UserWarning: [03:16:03] WARNING: C:\\actions-runner\\_work\\xgboost\\xgboost\\src\\learner.cc:738: \n",
      "Parameters: { \"use_label_encoder\" } are not used.\n",
      "\n",
      "  bst.update(dtrain, iteration=i, fobj=obj)\n",
      "c:\\mydata\\G8Vitamin\\.venv\\Lib\\site-packages\\xgboost\\training.py:183: UserWarning: [03:16:03] WARNING: C:\\actions-runner\\_work\\xgboost\\xgboost\\src\\learner.cc:738: \n",
      "Parameters: { \"use_label_encoder\" } are not used.\n",
      "\n",
      "  bst.update(dtrain, iteration=i, fobj=obj)\n",
      "c:\\mydata\\G8Vitamin\\.venv\\Lib\\site-packages\\xgboost\\training.py:183: UserWarning: [03:16:03] WARNING: C:\\actions-runner\\_work\\xgboost\\xgboost\\src\\learner.cc:738: \n",
      "Parameters: { \"use_label_encoder\" } are not used.\n",
      "\n",
      "  bst.update(dtrain, iteration=i, fobj=obj)\n",
      "c:\\mydata\\G8Vitamin\\.venv\\Lib\\site-packages\\xgboost\\training.py:183: UserWarning: [03:16:04] WARNING: C:\\actions-runner\\_work\\xgboost\\xgboost\\src\\learner.cc:738: \n",
      "Parameters: { \"use_label_encoder\" } are not used.\n",
      "\n",
      "  bst.update(dtrain, iteration=i, fobj=obj)\n",
      "c:\\mydata\\G8Vitamin\\.venv\\Lib\\site-packages\\xgboost\\training.py:183: UserWarning: [03:16:04] WARNING: C:\\actions-runner\\_work\\xgboost\\xgboost\\src\\learner.cc:738: \n",
      "Parameters: { \"use_label_encoder\" } are not used.\n",
      "\n",
      "  bst.update(dtrain, iteration=i, fobj=obj)\n",
      "c:\\mydata\\G8Vitamin\\.venv\\Lib\\site-packages\\xgboost\\training.py:183: UserWarning: [03:16:04] WARNING: C:\\actions-runner\\_work\\xgboost\\xgboost\\src\\learner.cc:738: \n",
      "Parameters: { \"use_label_encoder\" } are not used.\n",
      "\n",
      "  bst.update(dtrain, iteration=i, fobj=obj)\n",
      "c:\\mydata\\G8Vitamin\\.venv\\Lib\\site-packages\\xgboost\\training.py:183: UserWarning: [03:16:05] WARNING: C:\\actions-runner\\_work\\xgboost\\xgboost\\src\\learner.cc:738: \n",
      "Parameters: { \"use_label_encoder\" } are not used.\n",
      "\n",
      "  bst.update(dtrain, iteration=i, fobj=obj)\n",
      "c:\\mydata\\G8Vitamin\\.venv\\Lib\\site-packages\\xgboost\\training.py:183: UserWarning: [03:16:05] WARNING: C:\\actions-runner\\_work\\xgboost\\xgboost\\src\\learner.cc:738: \n",
      "Parameters: { \"use_label_encoder\" } are not used.\n",
      "\n",
      "  bst.update(dtrain, iteration=i, fobj=obj)\n",
      "c:\\mydata\\G8Vitamin\\.venv\\Lib\\site-packages\\xgboost\\training.py:183: UserWarning: [03:16:05] WARNING: C:\\actions-runner\\_work\\xgboost\\xgboost\\src\\learner.cc:738: \n",
      "Parameters: { \"use_label_encoder\" } are not used.\n",
      "\n",
      "  bst.update(dtrain, iteration=i, fobj=obj)\n"
     ]
    },
    {
     "name": "stdout",
     "output_type": "stream",
     "text": [
      "              AUC       ACC       PPV       NPV       SEN       SPE  F1 score  \\\n",
      "Method                                                                          \n",
      "GBM      0.773113  0.727088  0.665187  0.751258  0.510671  0.851829  0.577760   \n",
      "LR       0.761869  0.722114  0.651907  0.750649  0.515057  0.841461  0.575447   \n",
      "Nnet     0.767314  0.724127  0.656908  0.751119  0.514024  0.845229  0.576660   \n",
      "RF       0.747825  0.711713  0.631572  0.745091  0.507782  0.829257  0.562936   \n",
      "XGBoost  0.759019  0.718883  0.641213  0.752111  0.525011  0.830631  0.577283   \n",
      "\n",
      "              MCC     KAPPA  Brier score  \n",
      "Method                                    \n",
      "GBM      0.388535  0.381254     0.182075  \n",
      "LR       0.378837  0.373106     0.185805  \n",
      "Nnet     0.382853  0.376574     0.184758  \n",
      "RF       0.356299  0.351632     0.193035  \n",
      "XGBoost  0.374004  0.369830     0.188692  \n"
     ]
    }
   ],
   "source": [
    "import pandas as pd\n",
    "import numpy as np\n",
    "from sklearn.model_selection import StratifiedShuffleSplit\n",
    "from sklearn.preprocessing import StandardScaler, OneHotEncoder\n",
    "from sklearn.compose import ColumnTransformer\n",
    "from sklearn.pipeline import Pipeline\n",
    "from sklearn.ensemble import GradientBoostingClassifier, RandomForestClassifier\n",
    "from sklearn.linear_model import LogisticRegression\n",
    "from sklearn.svm import SVC\n",
    "from sklearn.neural_network import MLPClassifier\n",
    "from xgboost import XGBClassifier\n",
    "from sklearn.metrics import (\n",
    "    roc_auc_score, accuracy_score, precision_score, recall_score,\n",
    "    f1_score, confusion_matrix, matthews_corrcoef, cohen_kappa_score,\n",
    "    brier_score_loss\n",
    ")\n",
    "\n",
    "# === 1. Load Data ===\n",
    "# df = pd.read_csv(\"your_file.csv\")  # <-- Replace with your actual filename\n",
    "\n",
    "# === 2. Features and Label ===\n",
    "X = df.drop(columns=[\"label\"])\n",
    "y = df[\"label\"].values\n",
    "\n",
    "# === 3. Define categorical and numerical features ===\n",
    "categorical_features = [\"Gender\", \"Race\", \"milk_consumption\", \"Hba1c\", \"SmokeFam\"]\n",
    "numerical_features = [col for col in X.columns if col not in categorical_features]\n",
    "\n",
    "# === 4. Preprocessing ===\n",
    "preprocessor = ColumnTransformer([\n",
    "    (\"num\", StandardScaler(), numerical_features),\n",
    "    (\"cat\", OneHotEncoder(drop=\"first\", handle_unknown=\"ignore\"), categorical_features)\n",
    "])\n",
    "\n",
    "# === 5. Models ===\n",
    "models = {\n",
    "    \"GBM\": GradientBoostingClassifier(),\n",
    "    \"LR\": LogisticRegression(max_iter=1000),\n",
    "    \"Nnet\": MLPClassifier(max_iter=1000),\n",
    "    \"RF\": RandomForestClassifier(),\n",
    "    # \"SVM\": SVC(probability=True),\n",
    "    \"XGBoost\": XGBClassifier(use_label_encoder=False, eval_metric=\"logloss\")\n",
    "}\n",
    "\n",
    "# === 6. Evaluation Function ===\n",
    "def evaluate_model(name, model, X, y):\n",
    "    sss = StratifiedShuffleSplit(n_splits=10, test_size=0.3, random_state=42)\n",
    "    metrics = {\n",
    "        \"AUC\": [], \"ACC\": [], \"PPV\": [], \"NPV\": [], \"SEN\": [],\n",
    "        \"SPE\": [], \"F1 score\": [], \"MCC\": [], \"KAPPA\": [], \"Brier score\": []\n",
    "    }\n",
    "\n",
    "    pipeline = Pipeline([\n",
    "        (\"preprocess\", preprocessor),\n",
    "        (\"model\", model)\n",
    "    ])\n",
    "\n",
    "    for train_idx, test_idx in sss.split(X, y):\n",
    "        X_train, X_test = X.iloc[train_idx], X.iloc[test_idx]\n",
    "        y_train, y_test = y[train_idx], y[test_idx]\n",
    "\n",
    "        pipeline.fit(X_train, y_train)\n",
    "        y_pred = pipeline.predict(X_test)\n",
    "        y_proba = pipeline.predict_proba(X_test)[:, 1]\n",
    "\n",
    "        tn, fp, fn, tp = confusion_matrix(y_test, y_pred).ravel()\n",
    "\n",
    "        metrics[\"AUC\"].append(roc_auc_score(y_test, y_proba))\n",
    "        metrics[\"ACC\"].append(accuracy_score(y_test, y_pred))\n",
    "        metrics[\"PPV\"].append(precision_score(y_test, y_pred, zero_division=0))\n",
    "        metrics[\"NPV\"].append(tn / (tn + fn) if (tn + fn) > 0 else 0)\n",
    "        metrics[\"SEN\"].append(recall_score(y_test, y_pred))  # Sensitivity\n",
    "        metrics[\"SPE\"].append(tn / (tn + fp) if (tn + fp) > 0 else 0)  # Specificity\n",
    "        metrics[\"F1 score\"].append(f1_score(y_test, y_pred))\n",
    "        metrics[\"MCC\"].append(matthews_corrcoef(y_test, y_pred))\n",
    "        metrics[\"KAPPA\"].append(cohen_kappa_score(y_test, y_pred))\n",
    "        metrics[\"Brier score\"].append(brier_score_loss(y_test, y_proba))\n",
    "\n",
    "    return {metric: np.mean(values) for metric, values in metrics.items()}\n",
    "\n",
    "# === 7. Run All Models ===\n",
    "results = {}\n",
    "for name, model in models.items():\n",
    "    print(f\"Evaluating {name}...\")\n",
    "    results[name] = evaluate_model(name, model, X, y)\n",
    "\n",
    "# === 8. Export Results ===\n",
    "results_df = pd.DataFrame(results).T\n",
    "results_df.index.name = \"Method\"\n",
    "results_df.to_csv(\"evaluation_results.csv\")\n",
    "print(results_df)\n"
   ]
  },
  {
   "cell_type": "code",
   "execution_count": 18,
   "id": "29c102bd",
   "metadata": {},
   "outputs": [
    {
     "name": "stdout",
     "output_type": "stream",
     "text": [
      "Evaluating GBM with k-fold CV...\n",
      "Evaluating LR with k-fold CV...\n",
      "Evaluating Nnet with k-fold CV...\n",
      "Evaluating RF with k-fold CV...\n",
      "Evaluating XGBoost with k-fold CV...\n"
     ]
    },
    {
     "name": "stderr",
     "output_type": "stream",
     "text": [
      "c:\\mydata\\G8Vitamin\\.venv\\Lib\\site-packages\\xgboost\\training.py:183: UserWarning: [03:28:06] WARNING: C:\\actions-runner\\_work\\xgboost\\xgboost\\src\\learner.cc:738: \n",
      "Parameters: { \"use_label_encoder\" } are not used.\n",
      "\n",
      "  bst.update(dtrain, iteration=i, fobj=obj)\n",
      "c:\\mydata\\G8Vitamin\\.venv\\Lib\\site-packages\\xgboost\\training.py:183: UserWarning: [03:28:06] WARNING: C:\\actions-runner\\_work\\xgboost\\xgboost\\src\\learner.cc:738: \n",
      "Parameters: { \"use_label_encoder\" } are not used.\n",
      "\n",
      "  bst.update(dtrain, iteration=i, fobj=obj)\n",
      "c:\\mydata\\G8Vitamin\\.venv\\Lib\\site-packages\\xgboost\\training.py:183: UserWarning: [03:28:06] WARNING: C:\\actions-runner\\_work\\xgboost\\xgboost\\src\\learner.cc:738: \n",
      "Parameters: { \"use_label_encoder\" } are not used.\n",
      "\n",
      "  bst.update(dtrain, iteration=i, fobj=obj)\n",
      "c:\\mydata\\G8Vitamin\\.venv\\Lib\\site-packages\\xgboost\\training.py:183: UserWarning: [03:28:07] WARNING: C:\\actions-runner\\_work\\xgboost\\xgboost\\src\\learner.cc:738: \n",
      "Parameters: { \"use_label_encoder\" } are not used.\n",
      "\n",
      "  bst.update(dtrain, iteration=i, fobj=obj)\n",
      "c:\\mydata\\G8Vitamin\\.venv\\Lib\\site-packages\\xgboost\\training.py:183: UserWarning: [03:28:07] WARNING: C:\\actions-runner\\_work\\xgboost\\xgboost\\src\\learner.cc:738: \n",
      "Parameters: { \"use_label_encoder\" } are not used.\n",
      "\n",
      "  bst.update(dtrain, iteration=i, fobj=obj)\n",
      "c:\\mydata\\G8Vitamin\\.venv\\Lib\\site-packages\\xgboost\\training.py:183: UserWarning: [03:28:07] WARNING: C:\\actions-runner\\_work\\xgboost\\xgboost\\src\\learner.cc:738: \n",
      "Parameters: { \"use_label_encoder\" } are not used.\n",
      "\n",
      "  bst.update(dtrain, iteration=i, fobj=obj)\n",
      "c:\\mydata\\G8Vitamin\\.venv\\Lib\\site-packages\\xgboost\\training.py:183: UserWarning: [03:28:08] WARNING: C:\\actions-runner\\_work\\xgboost\\xgboost\\src\\learner.cc:738: \n",
      "Parameters: { \"use_label_encoder\" } are not used.\n",
      "\n",
      "  bst.update(dtrain, iteration=i, fobj=obj)\n",
      "c:\\mydata\\G8Vitamin\\.venv\\Lib\\site-packages\\xgboost\\training.py:183: UserWarning: [03:28:08] WARNING: C:\\actions-runner\\_work\\xgboost\\xgboost\\src\\learner.cc:738: \n",
      "Parameters: { \"use_label_encoder\" } are not used.\n",
      "\n",
      "  bst.update(dtrain, iteration=i, fobj=obj)\n",
      "c:\\mydata\\G8Vitamin\\.venv\\Lib\\site-packages\\xgboost\\training.py:183: UserWarning: [03:28:08] WARNING: C:\\actions-runner\\_work\\xgboost\\xgboost\\src\\learner.cc:738: \n",
      "Parameters: { \"use_label_encoder\" } are not used.\n",
      "\n",
      "  bst.update(dtrain, iteration=i, fobj=obj)\n",
      "c:\\mydata\\G8Vitamin\\.venv\\Lib\\site-packages\\xgboost\\training.py:183: UserWarning: [03:28:08] WARNING: C:\\actions-runner\\_work\\xgboost\\xgboost\\src\\learner.cc:738: \n",
      "Parameters: { \"use_label_encoder\" } are not used.\n",
      "\n",
      "  bst.update(dtrain, iteration=i, fobj=obj)\n"
     ]
    },
    {
     "name": "stdout",
     "output_type": "stream",
     "text": [
      "              AUC       ACC  Precision_0  Precision_1  Precision_macro  \\\n",
      "Method                                                                   \n",
      "GBM      0.774750  0.728295     0.752569     0.666765         0.709667   \n",
      "LR       0.763703  0.722327     0.751544     0.651424         0.701484   \n",
      "Nnet     0.771366  0.726491     0.758176     0.653407         0.705791   \n",
      "RF       0.747848  0.709927     0.745188     0.627078         0.686133   \n",
      "XGBoost  0.763041  0.721424     0.753166     0.646520         0.699843   \n",
      "\n",
      "         Recall_0  Recall_1  Recall_macro      F1_0      F1_1  F1_macro  \\\n",
      "Method                                                                    \n",
      "GBM      0.851762  0.514078      0.682920  0.799074  0.580435  0.689755   \n",
      "LR       0.840019  0.518127      0.679073  0.793292  0.577047  0.685169   \n",
      "Nnet     0.835461  0.537427      0.686444  0.794871  0.589475  0.692173   \n",
      "RF       0.824776  0.510661      0.667719  0.782937  0.562805  0.672871   \n",
      "XGBoost  0.834330  0.525529      0.679930  0.791654  0.579702  0.685678   \n",
      "\n",
      "              NPV       SEN       SPE       MCC     KAPPA  Brier score  \n",
      "Method                                                                  \n",
      "GBM      0.752569  0.514078  0.851762  0.391660  0.384474     0.181558  \n",
      "LR       0.751544  0.518127  0.840019  0.379881  0.374357     0.185250  \n",
      "Nnet     0.758176  0.537427  0.835461  0.391725  0.387383     0.183110  \n",
      "RF       0.745188  0.510661  0.824776  0.353361  0.349163     0.193245  \n",
      "XGBoost  0.753166  0.525529  0.834330  0.379242  0.374695     0.186788  \n"
     ]
    }
   ],
   "source": [
    "from sklearn.model_selection import StratifiedKFold\n",
    "# === 2. Features and Label ===\n",
    "X = df.drop(columns=[\"label\"])\n",
    "y = df[\"label\"].values\n",
    "\n",
    "# === 3. Define categorical and numerical features ===\n",
    "categorical_features = [\"Gender\", \"Race\", \"milk_consumption\", \"Hba1c\", \"SmokeFam\"]\n",
    "numerical_features = [col for col in X.columns if col not in categorical_features]\n",
    "\n",
    "# === 4. Preprocessing ===\n",
    "preprocessor = ColumnTransformer([\n",
    "    (\"num\", StandardScaler(), numerical_features),\n",
    "    (\"cat\", OneHotEncoder(drop=\"first\", handle_unknown=\"ignore\"), categorical_features)\n",
    "])\n",
    "\n",
    "# === 5. Models ===\n",
    "models = {\n",
    "    \"GBM\": GradientBoostingClassifier(),\n",
    "    \"LR\": LogisticRegression(max_iter=1000),\n",
    "    \"Nnet\": MLPClassifier(max_iter=1000),\n",
    "    \"RF\": RandomForestClassifier(),\n",
    "    # \"SVM\": SVC(probability=True),\n",
    "    \"XGBoost\": XGBClassifier(use_label_encoder=False, eval_metric=\"logloss\")\n",
    "}\n",
    "def evaluate_model_kfold(name, model, X, y, n_splits=10):\n",
    "    skf = StratifiedKFold(n_splits=n_splits, shuffle=True, random_state=42)\n",
    "    metrics = {\n",
    "        \"AUC\": [], \"ACC\": [],\n",
    "        \"Precision_0\": [], \"Precision_1\": [], \"Precision_macro\": [],\n",
    "        \"Recall_0\": [], \"Recall_1\": [], \"Recall_macro\": [],\n",
    "        \"F1_0\": [], \"F1_1\": [], \"F1_macro\": [],\n",
    "        \"NPV\": [], \"SEN\": [], \"SPE\": [],\n",
    "        \"MCC\": [], \"KAPPA\": [], \"Brier score\": []\n",
    "    }\n",
    "\n",
    "    pipeline = Pipeline([\n",
    "        (\"preprocess\", preprocessor),\n",
    "        (\"model\", model)\n",
    "    ])\n",
    "\n",
    "    for train_idx, test_idx in skf.split(X, y):\n",
    "        X_train, X_test = X.iloc[train_idx], X.iloc[test_idx]\n",
    "        y_train, y_test = y[train_idx], y[test_idx]\n",
    "\n",
    "        pipeline.fit(X_train, y_train)\n",
    "        y_pred = pipeline.predict(X_test)\n",
    "        y_proba = pipeline.predict_proba(X_test)[:, 1]\n",
    "\n",
    "        tn, fp, fn, tp = confusion_matrix(y_test, y_pred).ravel()\n",
    "\n",
    "        metrics[\"AUC\"].append(roc_auc_score(y_test, y_proba))\n",
    "        metrics[\"ACC\"].append(accuracy_score(y_test, y_pred))\n",
    "        metrics[\"Precision_0\"].append(precision_score(y_test, y_pred, pos_label=0, zero_division=0))\n",
    "        metrics[\"Precision_1\"].append(precision_score(y_test, y_pred, pos_label=1, zero_division=0))\n",
    "        metrics[\"Precision_macro\"].append(precision_score(y_test, y_pred, average='macro', zero_division=0))\n",
    "        metrics[\"Recall_0\"].append(recall_score(y_test, y_pred, pos_label=0, zero_division=0))\n",
    "        metrics[\"Recall_1\"].append(recall_score(y_test, y_pred, pos_label=1, zero_division=0))\n",
    "        metrics[\"Recall_macro\"].append(recall_score(y_test, y_pred, average='macro', zero_division=0))\n",
    "        metrics[\"F1_0\"].append(f1_score(y_test, y_pred, pos_label=0, zero_division=0))\n",
    "        metrics[\"F1_1\"].append(f1_score(y_test, y_pred, pos_label=1, zero_division=0))\n",
    "        metrics[\"F1_macro\"].append(f1_score(y_test, y_pred, average='macro', zero_division=0))\n",
    "        metrics[\"NPV\"].append(tn / (tn + fn) if (tn + fn) > 0 else 0)\n",
    "        metrics[\"SEN\"].append(recall_score(y_test, y_pred, pos_label=1))\n",
    "        metrics[\"SPE\"].append(tn / (tn + fp) if (tn + fp) > 0 else 0)\n",
    "        metrics[\"MCC\"].append(matthews_corrcoef(y_test, y_pred))\n",
    "        metrics[\"KAPPA\"].append(cohen_kappa_score(y_test, y_pred))\n",
    "        metrics[\"Brier score\"].append(brier_score_loss(y_test, y_proba))\n",
    "\n",
    "    return {metric: np.mean(values) for metric, values in metrics.items()}\n",
    "\n",
    "results = {}\n",
    "for name, model in models.items():\n",
    "    print(f\"Evaluating {name} with k-fold CV...\")\n",
    "    results[name] = evaluate_model_kfold(name, model, X, y, n_splits=10)\n",
    "\n",
    "results_df = pd.DataFrame(results).T\n",
    "results_df.index.name = \"Method\"\n",
    "results_df.to_csv(\"evaluation_results_kfold.csv\")\n",
    "print(results_df)"
   ]
  }
 ],
 "metadata": {
  "kernelspec": {
   "display_name": ".venv",
   "language": "python",
   "name": "python3"
  },
  "language_info": {
   "codemirror_mode": {
    "name": "ipython",
    "version": 3
   },
   "file_extension": ".py",
   "mimetype": "text/x-python",
   "name": "python",
   "nbconvert_exporter": "python",
   "pygments_lexer": "ipython3",
   "version": "3.13.0"
  }
 },
 "nbformat": 4,
 "nbformat_minor": 5
}
