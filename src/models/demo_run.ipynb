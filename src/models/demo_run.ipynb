{
 "cells": [
  {
   "cell_type": "code",
   "execution_count": 1,
   "id": "b2556173",
   "metadata": {},
   "outputs": [
    {
     "name": "stderr",
     "output_type": "stream",
     "text": [
      "c:\\mydata\\G8Vitamin\\.venv\\Lib\\site-packages\\sklearn\\utils\\validation.py:2739: UserWarning: X does not have valid feature names, but LGBMClassifier was fitted with feature names\n",
      "  warnings.warn(\n"
     ]
    },
    {
     "name": "stdout",
     "output_type": "stream",
     "text": [
      "[0 0 1 ... 0 1 0]\n"
     ]
    },
    {
     "name": "stderr",
     "output_type": "stream",
     "text": [
      "c:\\mydata\\G8Vitamin\\.venv\\Lib\\site-packages\\sklearn\\utils\\validation.py:2739: UserWarning: X does not have valid feature names, but LGBMClassifier was fitted with feature names\n",
      "  warnings.warn(\n"
     ]
    }
   ],
   "source": [
    "import joblib\n",
    "import pandas as pd\n",
    "\n",
    "# Load pipeline\n",
    "pipe = joblib.load('lightgbm_pipeline.pkl')\n",
    "\n",
    "# Load dữ liệu test\n",
    "df_test = pd.read_csv(r\"../../data/final/08062025/processed_test.csv\")\n",
    "useful_columns = ['Gender', 'Age', 'Race', 'PIR', 'BMI', 'FastingGlucose','Triglycerides', 'Creatinine', 'HDLCholesterol', 'Hemoglobin','MeanCellVolumn', 'RedCellDistributionWidth', 'SmokeFam','milk_consumption', 'label']\n",
    "df_test = df_test[useful_columns]\n",
    "X_test_raw = df_test.drop(columns=['label'])\n",
    "y_test = df_test['label']\n",
    "\n",
    "# Dự đoán\n",
    "y_pred = pipe.predict(X_test_raw)\n",
    "y_proba = pipe.predict_proba(X_test_raw)\n",
    "\n",
    "# y_proba is shape (n_samples, 2), columns are prob of class 0 and prob of class 1\n",
    "# Take class 1 probability and threshold at 0.5\n",
    "y_pred_manual = (y_proba[:, 1] >= 0.5).astype(int)\n",
    "print(y_pred_manual)"
   ]
  },
  {
   "cell_type": "code",
   "execution_count": null,
   "id": "0aba02e6",
   "metadata": {},
   "outputs": [],
   "source": [
    "import joblib\n",
    "import pandas as pd\n",
    "import numpy as np\n",
    "\n",
    "# Load pipeline\n",
    "pipe = joblib.load('lightgbm_pipeline.pkl')\n",
    "\n",
    "# Load test data\n",
    "df_test = pd.read_csv(r\"../../data/final/08062025/processed_test.csv\")\n",
    "\n",
    "# Include SEQN for tracking\n",
    "columns_needed = ['SEQN', 'Gender', 'Age', 'Race', 'PIR', 'BMI', 'FastingGlucose',\n",
    "                  'Triglycerides', 'Creatinine', 'HDLCholesterol', 'Hemoglobin',\n",
    "                  'MeanCellVolumn', 'RedCellDistributionWidth', 'SmokeFam',\n",
    "                  'milk_consumption', 'label']\n",
    "\n",
    "df_test = df_test[columns_needed]\n",
    "\n",
    "# Separate input and target\n",
    "X_test_raw = df_test.drop(columns=['label'])\n",
    "y_test = df_test['label']\n",
    "\n",
    "# Predict\n",
    "y_pred = pipe.predict(X_test_raw)\n",
    "y_proba = pipe.predict_proba(X_test_raw)\n",
    "y_pred_manual = (y_proba[:, 1] >= 0.5).astype(int)\n",
    "\n",
    "# Identify correctly predicted positives\n",
    "y_test_array = np.array(y_test)\n",
    "correct_positives_indices = np.where((y_pred_manual == 1) & (y_test_array == 1))[0]\n",
    "\n",
    "# Extract rows and add metadata\n",
    "correct_positives = X_test_raw.iloc[correct_positives_indices].copy()\n",
    "correct_positives['true_label'] = y_test_array[correct_positives_indices]\n",
    "correct_positives['predicted_proba'] = y_proba[correct_positives_indices, 1]\n",
    "\n",
    "# Only show SEQN if needed\n",
    "correct_seqn = correct_positives[['SEQN', 'true_label', 'predicted_proba']]\n",
    "print(correct_seqn)\n"
   ]
  }
 ],
 "metadata": {
  "kernelspec": {
   "display_name": ".venv",
   "language": "python",
   "name": "python3"
  },
  "language_info": {
   "codemirror_mode": {
    "name": "ipython",
    "version": 3
   },
   "file_extension": ".py",
   "mimetype": "text/x-python",
   "name": "python",
   "nbconvert_exporter": "python",
   "pygments_lexer": "ipython3",
   "version": "3.13.0"
  }
 },
 "nbformat": 4,
 "nbformat_minor": 5
}
