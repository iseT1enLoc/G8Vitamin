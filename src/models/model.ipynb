{
 "cells": [
  {
   "cell_type": "code",
   "execution_count": 1,
   "id": "640e0ec7",
   "metadata": {},
   "outputs": [],
   "source": [
    "import pandas as pd\n",
    "import numpy as np\n",
    "import matplotlib.pyplot as plt\n",
    "import seaborn as sns"
   ]
  },
  {
   "cell_type": "markdown",
   "id": "d141d5fd",
   "metadata": {},
   "source": [
    "## Discrete data"
   ]
  },
  {
   "cell_type": "code",
   "execution_count": 2,
   "id": "de2b8213",
   "metadata": {},
   "outputs": [],
   "source": [
    "df_train = pd.read_csv(r'c:\\mydata\\G8Vitamin\\data\\final\\3labels\\processed_train.csv')"
   ]
  },
  {
   "cell_type": "code",
   "execution_count": 3,
   "id": "f7ab4dff",
   "metadata": {},
   "outputs": [],
   "source": [
    "# Create dict to convert rate to measure\n",
    "measures_dict = {\n",
    "    \"BMI\": { # kg/m^2\n",
    "        \"both\":{\n",
    "            \"1\": 18.4, # <18.4\n",
    "            \"2\": 24.9, # 18.4 <= x < 24.9\n",
    "            \"3\": 30, # 24.9 <= x < 30\n",
    "            \"4\": 30 # >= 30\n",
    "        }\n",
    "    },\n",
    "\n",
    "    \"WaistCircumference\": {  # cm\n",
    "        \"male\":{\n",
    "            \"1\": 94, # <94\n",
    "            \"2\": 102, # 94 <= x < 102\n",
    "            \"3\": 102, # >= 102\n",
    "        }, \n",
    "        \"female\": {\n",
    "            \"1\": 80, # <80\n",
    "            \"2\": 88, # 80 <= x < 88\n",
    "            \"3\": 88 # >= 88\n",
    "        }\n",
    "    },\n",
    "\n",
    "    \"HDLCholesterol\": { # mg/dl\n",
    "        \"both\":{\n",
    "            \"1\": 40, # <40 \n",
    "            \"2\": 60, # 40 <= x < 60\n",
    "            \"3\": 60 # >= 60\n",
    "        }  \n",
    "    },\n",
    "\n",
    "    \"Triglycerides\":{ # mg/dl\n",
    "        \"both\":{\n",
    "            \"1\": 150, # <150\n",
    "            \"2\": 200, # 150 <= x < 200\n",
    "            \"3\": 200, # >= 200\n",
    "        }\n",
    "    },\n",
    "\n",
    "    \"LDLCholesterol\": { # mg/dl\n",
    "        \"both\":{\n",
    "            \"1\": 100, # <100\n",
    "            \"2\": 160, # 100 <= x < 160\n",
    "            \"3\": 160 # >= 160\n",
    "        }\n",
    "    },\n",
    "\n",
    "    \"Hba1c\": { # %\n",
    "        \"both\":{\n",
    "            \"1\": 5.7, # <5.7\n",
    "            \"2\": 6.5, # 5.7 <= x < 6.5\n",
    "            \"3\": 6.5 # >= 6.5\n",
    "        }\n",
    "    },\n",
    "\n",
    "    \"ALT\": { # U/L\n",
    "        \"male\": {\n",
    "            \"1\": 0, # <0\n",
    "            \"2\": 41, # 0 <= x < 41\n",
    "            \"3\": 41 # >= 41\n",
    "        },\n",
    "        \"female\":{\n",
    "            \"1\": 0, # <0\n",
    "            \"2\": 32, # 0 <= x < 32\n",
    "            \"3\": 32 # >= 31\n",
    "        }\n",
    "    },\n",
    "\n",
    "    \"AST\": {  # U/L\n",
    "        \"male\": {\n",
    "            \"1\": 0, # <0\n",
    "            \"2\": 38, # 0 <= x < 38\n",
    "            \"3\": 38 # >= 40\n",
    "        },\n",
    "        \"female\":{\n",
    "            \"1\": 0, # <0\n",
    "            \"2\": 32, # 0 <= x < 32\n",
    "            \"3\": 32 # >= 32\n",
    "        }\n",
    "    },\n",
    "\n",
    "    \"AlkalinePhosphotase\":{ # U/L\n",
    "        \"male\": {\n",
    "            \"1\": 40, # < 40\n",
    "            \"2\": 130, # 40 <= x < 130\n",
    "            \"3\": 130 # >= 130\n",
    "        },\n",
    "        \"female\":{\n",
    "            \"1\": 35, # < 35\n",
    "            \"2\": 105, # 35 <= x < 105\n",
    "            \"3\": 105 # >= 105\n",
    "        }\n",
    "    },\n",
    "\n",
    "    \"Creatinine\":{  # mg/dl\n",
    "        \"male\": {\n",
    "            \"1\": 0.67, # <0.67\n",
    "            \"2\": 1.18, # 0.67 <= x < 1.18,\n",
    "            \"3\": 1.18 # >= 1.18\n",
    "        },\n",
    "        \"female\":{\n",
    "            \"1\": 0.51, # < 0.51\n",
    "            \"2\": 0.96, # 0.51 <= x < 0.96\n",
    "            \"3\": 0.96 # >= 0.96\n",
    "        }\n",
    "    },\n",
    "    \n",
    "    \"UricAcid\": { # mng/dl\n",
    "        \"male\": {\n",
    "            \"1\": 3.4, # <3.4\n",
    "            \"2\": 7.1, # 3.4 <= x < 7.1\n",
    "            \"3\": 7.1 # >= 7.1\n",
    "        }, \n",
    "\n",
    "        \"female\": {\n",
    "            \"1\": 2.4, # < 2.4\n",
    "            \"2\": 5.8, # 2.4 <= x < 5.8\n",
    "            \"3\": 5.8 # >= 5.8\n",
    "        }\n",
    "    }\n",
    "}"
   ]
  },
  {
   "cell_type": "code",
   "execution_count": 4,
   "id": "90bc82f9",
   "metadata": {},
   "outputs": [],
   "source": [
    "col_blood_dict = {\n",
    "    \"Hemoglobin\": {\n",
    "        \"min\": 10.7,\n",
    "        \"max\": 17.1\n",
    "    },\n",
    "    \"Hematocrit\": {\n",
    "        \"min\": 32.1,\n",
    "        \"max\": 50.9\n",
    "    },\n",
    "    \"MeanCellVolumn\": {\n",
    "        \"min\": 68.2,\n",
    "        \"max\": 102.7\n",
    "    },\n",
    "    \"MeanCellHemoglobin\": {\n",
    "        \"min\": 22.3,\n",
    "        \"max\": 35\n",
    "    },\n",
    "    \"RedCellDistributionWidth\": {\n",
    "        \"min\": 11.4,\n",
    "        \"max\": 16.2\n",
    "    },\n",
    "    \"PlateletCount\": {\n",
    "        \"min\": 155,\n",
    "        \"max\": 547\n",
    "    },\n",
    "    \"MeanPlateletVolume\": {\n",
    "        \"min\": 6.1,\n",
    "        \"max\": 10.2\n",
    "    }\n",
    "}"
   ]
  },
  {
   "cell_type": "code",
   "execution_count": 5,
   "id": "31edc3ad",
   "metadata": {},
   "outputs": [
    {
     "data": {
      "text/plain": [
       "Index(['Gender', 'Age', 'BMI', 'WaistCircumference', 'UricAcid', 'ALT', 'AST',\n",
       "       'AlkalinePhosphotase', 'Creatinine', 'HDLCholesterol', 'Triglycerides',\n",
       "       'LDLCholesterol', 'Hemoglobin', 'Hematocrit', 'MeanCellVolumn',\n",
       "       'MeanCellHemoglobin', 'RedCellDistributionWidth', 'PlateletCount',\n",
       "       'MeanPlateletVolume', 'Hba1c', 'VitaminD', 'label', 'YearStart',\n",
       "       'Race_1.0', 'Race_3.0', 'Race_4.0', 'Race_5.0'],\n",
       "      dtype='object')"
      ]
     },
     "execution_count": 5,
     "metadata": {},
     "output_type": "execute_result"
    }
   ],
   "source": [
    "df_train.columns"
   ]
  },
  {
   "cell_type": "code",
   "execution_count": 60,
   "id": "615566e9",
   "metadata": {},
   "outputs": [],
   "source": [
    "def classify_blood_value(value, test_name):\n",
    "    if pd.isnull(value):\n",
    "        return None\n",
    "    thresholds = col_blood_dict[test_name]\n",
    "    if value < thresholds[\"min\"]:\n",
    "        return 1  # Low\n",
    "    elif value > thresholds[\"max\"]:\n",
    "        return 3  # High\n",
    "    else:\n",
    "        return 2  # Normal"
   ]
  },
  {
   "cell_type": "code",
   "execution_count": 61,
   "id": "191a0c0e",
   "metadata": {},
   "outputs": [],
   "source": [
    "# Apply classification for each test in col_blood_dict\n",
    "for test_name in col_blood_dict:\n",
    "    if test_name in df_train.columns:\n",
    "        df_train[f\"{test_name}_class\"] = df_train[test_name].apply(lambda x: classify_blood_value(x, test_name))"
   ]
  },
  {
   "cell_type": "code",
   "execution_count": 62,
   "id": "43f37be9",
   "metadata": {},
   "outputs": [],
   "source": [
    "import pandas as pd\n",
    "\n",
    "# Your DataFrame should include a 'gender' column and measurement columns matching the keys in measures_dict\n",
    "# For example:\n",
    "# df = pd.read_csv(\"your_data.csv\")\n",
    "\n",
    "def get_class(value, measure, gender):\n",
    "    if pd.isnull(value):\n",
    "        return None\n",
    "\n",
    "    # Determine whether to use gender-specific or 'both' thresholds\n",
    "    thresholds = None\n",
    "    if gender in measures_dict[measure]:\n",
    "        thresholds = measures_dict[measure][gender]\n",
    "    elif 'both' in measures_dict[measure]:\n",
    "        thresholds = measures_dict[measure]['both']\n",
    "    else:\n",
    "        return None\n",
    "\n",
    "    # Sort by threshold values (ascending)\n",
    "    sorted_items = sorted(((int(k), v) for k, v in thresholds.items()), key=lambda x: x[1])\n",
    "\n",
    "    # Handle different lengths safely (usually 3 categories, sometimes 4 like in BMI)\n",
    "    for i, (label, threshold) in enumerate(sorted_items):\n",
    "        if i == 0 and value < threshold:\n",
    "            return label\n",
    "        elif i < len(sorted_items) - 1:\n",
    "            next_threshold = sorted_items[i + 1][1]\n",
    "            if threshold <= value < next_threshold:\n",
    "                return label\n",
    "    # If value exceeds all thresholds, return the last label\n",
    "    return sorted_items[-1][0]\n",
    "\n",
    "# Apply classification for each measure\n",
    "for measure in measures_dict:\n",
    "    if measure in df_train.columns:\n",
    "        df_train[f\"{measure}_class\"] = df_train.apply(\n",
    "            lambda row: get_class(row[measure], measure, row['Gender']), axis=1\n",
    "        )\n"
   ]
  },
  {
   "cell_type": "code",
   "execution_count": 63,
   "id": "f86117df",
   "metadata": {},
   "outputs": [
    {
     "data": {
      "text/plain": [
       "Index(['Gender', 'Age', 'BMI', 'WaistCircumference', 'UricAcid', 'ALT', 'AST',\n",
       "       'AlkalinePhosphotase', 'Creatinine', 'HDLCholesterol', 'Triglycerides',\n",
       "       'LDLCholesterol', 'Hemoglobin', 'Hematocrit', 'MeanCellVolumn',\n",
       "       'MeanCellHemoglobin', 'RedCellDistributionWidth', 'PlateletCount',\n",
       "       'MeanPlateletVolume', 'Hba1c', 'VitaminD', 'label', 'YearStart',\n",
       "       'Race_1.0', 'Race_3.0', 'Race_4.0', 'Race_5.0', 'Hemoglobin_class',\n",
       "       'Hematocrit_class', 'MeanCellVolumn_class', 'MeanCellHemoglobin_class',\n",
       "       'RedCellDistributionWidth_class', 'PlateletCount_class',\n",
       "       'MeanPlateletVolume_class', 'BMI_class', 'WaistCircumference_class',\n",
       "       'HDLCholesterol_class', 'Triglycerides_class', 'LDLCholesterol_class',\n",
       "       'Hba1c_class', 'ALT_class', 'AST_class', 'AlkalinePhosphotase_class',\n",
       "       'Creatinine_class', 'UricAcid_class'],\n",
       "      dtype='object')"
      ]
     },
     "execution_count": 63,
     "metadata": {},
     "output_type": "execute_result"
    }
   ],
   "source": [
    "df_train.columns"
   ]
  },
  {
   "cell_type": "code",
   "execution_count": 64,
   "id": "3604693f",
   "metadata": {},
   "outputs": [],
   "source": [
    "remove_columns = {\n",
    "    'Gender', 'Age', 'BMI', 'WaistCircumference', 'UricAcid', 'ALT', 'AST',\n",
    "       'AlkalinePhosphotase', 'Creatinine', 'HDLCholesterol', 'Triglycerides',\n",
    "       'LDLCholesterol', 'Hemoglobin', 'Hematocrit', 'MeanCellVolumn',\n",
    "       'MeanCellHemoglobin', 'RedCellDistributionWidth', 'PlateletCount',\n",
    "       'MeanPlateletVolume', 'Hba1c', 'VitaminD', 'YearStart','WaistCircumference_class', 'ALT_class', 'AST_class','UricAcid_class','AlkalinePhosphotase_class', 'Creatinine_class'\n",
    "}\n",
    "df_train.drop(columns=remove_columns,inplace=True)"
   ]
  },
  {
   "cell_type": "code",
   "execution_count": 65,
   "id": "5721ebad",
   "metadata": {},
   "outputs": [
    {
     "data": {
      "text/plain": [
       "Index(['label', 'Race_1.0', 'Race_3.0', 'Race_4.0', 'Race_5.0',\n",
       "       'Hemoglobin_class', 'Hematocrit_class', 'MeanCellVolumn_class',\n",
       "       'MeanCellHemoglobin_class', 'RedCellDistributionWidth_class',\n",
       "       'PlateletCount_class', 'MeanPlateletVolume_class', 'BMI_class',\n",
       "       'HDLCholesterol_class', 'Triglycerides_class', 'LDLCholesterol_class',\n",
       "       'Hba1c_class'],\n",
       "      dtype='object')"
      ]
     },
     "execution_count": 65,
     "metadata": {},
     "output_type": "execute_result"
    }
   ],
   "source": [
    "df_train.columns"
   ]
  },
  {
   "cell_type": "code",
   "execution_count": 66,
   "id": "5e921195",
   "metadata": {},
   "outputs": [
    {
     "name": "stdout",
     "output_type": "stream",
     "text": [
      "<class 'pandas.core.frame.DataFrame'>\n",
      "RangeIndex: 18033 entries, 0 to 18032\n",
      "Data columns (total 17 columns):\n",
      " #   Column                          Non-Null Count  Dtype  \n",
      "---  ------                          --------------  -----  \n",
      " 0   label                           18033 non-null  float64\n",
      " 1   Race_1.0                        18033 non-null  bool   \n",
      " 2   Race_3.0                        18033 non-null  bool   \n",
      " 3   Race_4.0                        18033 non-null  bool   \n",
      " 4   Race_5.0                        18033 non-null  bool   \n",
      " 5   Hemoglobin_class                18033 non-null  int64  \n",
      " 6   Hematocrit_class                18033 non-null  int64  \n",
      " 7   MeanCellVolumn_class            18033 non-null  int64  \n",
      " 8   MeanCellHemoglobin_class        18033 non-null  int64  \n",
      " 9   RedCellDistributionWidth_class  18033 non-null  int64  \n",
      " 10  PlateletCount_class             18033 non-null  int64  \n",
      " 11  MeanPlateletVolume_class        18033 non-null  int64  \n",
      " 12  BMI_class                       18033 non-null  int64  \n",
      " 13  HDLCholesterol_class            18033 non-null  int64  \n",
      " 14  Triglycerides_class             18033 non-null  int64  \n",
      " 15  LDLCholesterol_class            18033 non-null  int64  \n",
      " 16  Hba1c_class                     18033 non-null  int64  \n",
      "dtypes: bool(4), float64(1), int64(12)\n",
      "memory usage: 1.9 MB\n"
     ]
    }
   ],
   "source": [
    "df_train.info()"
   ]
  },
  {
   "cell_type": "code",
   "execution_count": 67,
   "id": "11d27fdf",
   "metadata": {},
   "outputs": [
    {
     "name": "stderr",
     "output_type": "stream",
     "text": [
      "c:\\mydata\\G8Vitamin\\.venv\\Lib\\site-packages\\xgboost\\training.py:183: UserWarning: [02:31:25] WARNING: C:\\actions-runner\\_work\\xgboost\\xgboost\\src\\learner.cc:738: \n",
      "Parameters: { \"use_label_encoder\" } are not used.\n",
      "\n",
      "  bst.update(dtrain, iteration=i, fobj=obj)\n",
      "c:\\mydata\\G8Vitamin\\.venv\\Lib\\site-packages\\sklearn\\metrics\\_classification.py:1565: UndefinedMetricWarning: Precision is ill-defined and being set to 0.0 in labels with no predicted samples. Use `zero_division` parameter to control this behavior.\n",
      "  _warn_prf(average, modifier, f\"{metric.capitalize()} is\", len(result))\n",
      "c:\\mydata\\G8Vitamin\\.venv\\Lib\\site-packages\\sklearn\\metrics\\_classification.py:1565: UndefinedMetricWarning: Precision is ill-defined and being set to 0.0 in labels with no predicted samples. Use `zero_division` parameter to control this behavior.\n",
      "  _warn_prf(average, modifier, f\"{metric.capitalize()} is\", len(result))\n",
      "c:\\mydata\\G8Vitamin\\.venv\\Lib\\site-packages\\sklearn\\metrics\\_classification.py:1565: UndefinedMetricWarning: Precision is ill-defined and being set to 0.0 in labels with no predicted samples. Use `zero_division` parameter to control this behavior.\n",
      "  _warn_prf(average, modifier, f\"{metric.capitalize()} is\", len(result))\n"
     ]
    },
    {
     "name": "stdout",
     "output_type": "stream",
     "text": [
      "Classification Report:\n",
      "\n",
      "              precision    recall  f1-score   support\n",
      "\n",
      "         0.0       0.67      0.41      0.51      1243\n",
      "         1.0       0.72      0.89      0.80      2309\n",
      "         2.0       0.00      0.00      0.00        55\n",
      "\n",
      "    accuracy                           0.71      3607\n",
      "   macro avg       0.46      0.43      0.44      3607\n",
      "weighted avg       0.69      0.71      0.69      3607\n",
      "\n"
     ]
    },
    {
     "data": {
      "image/png": "[encoded data removed]",
      "text/plain": [
       "<Figure size 640x480 with 2 Axes>"
      ]
     },
     "metadata": {},
     "output_type": "display_data"
    }
   ],
   "source": [
    "import xgboost as xgb\n",
    "from sklearn.model_selection import train_test_split\n",
    "from sklearn.metrics import (\n",
    "    classification_report,\n",
    "    confusion_matrix,\n",
    "    ConfusionMatrixDisplay\n",
    ")\n",
    "import matplotlib.pyplot as plt\n",
    "\n",
    "df = df_train.copy()\n",
    "# Prepare data\n",
    "features = [col for col in df.columns if col != 'label']\n",
    "X = df[features]\n",
    "y = df['label']\n",
    "\n",
    "# Train-test split\n",
    "X_train, X_test, y_train, y_test = train_test_split(X, y, test_size=0.2, random_state=42)\n",
    "\n",
    "# Train model\n",
    "model = xgb.XGBClassifier(\n",
    "    n_estimators=100,\n",
    "    max_depth=4,\n",
    "    learning_rate=0.1,\n",
    "    use_label_encoder=False,\n",
    "    eval_metric='mlogloss'\n",
    ")\n",
    "model.fit(X_train, y_train)\n",
    "\n",
    "# Predict\n",
    "y_pred = model.predict(X_test)\n",
    "\n",
    "# Classification report\n",
    "print(\"Classification Report:\\n\")\n",
    "print(classification_report(y_test, y_pred))\n",
    "\n",
    "# Confusion Matrix\n",
    "cm = confusion_matrix(y_test, y_pred)\n",
    "disp = ConfusionMatrixDisplay(confusion_matrix=cm)\n",
    "disp.plot(cmap='Blues', values_format='d')\n",
    "plt.title(\"Confusion Matrix\")\n",
    "plt.show()\n"
   ]
  }
 ],
 "metadata": {
  "kernelspec": {
   "display_name": ".venv",
   "language": "python",
   "name": "python3"
  },
  "language_info": {
   "codemirror_mode": {
    "name": "ipython",
    "version": 3
   },
   "file_extension": ".py",
   "mimetype": "text/x-python",
   "name": "python",
   "nbconvert_exporter": "python",
   "pygments_lexer": "ipython3",
   "version": "3.13.0"
  }
 },
 "nbformat": 4,
 "nbformat_minor": 5
}
